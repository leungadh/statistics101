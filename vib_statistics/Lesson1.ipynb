{
 "cells": [
  {
   "cell_type": "markdown",
   "id": "3f006f9d",
   "metadata": {},
   "source": [
    "# Statistics 101 Python Programming \n",
    "### Vibing with Statistics by Thomas Nield \n",
    "\n",
    "---\n",
    "### Measures of Central Tendency and Dispersion"
   ]
  },
  {
   "cell_type": "code",
   "execution_count": 16,
   "id": "c57eb2c2",
   "metadata": {},
   "outputs": [
    {
     "name": "stdout",
     "output_type": "stream",
     "text": [
      "Mean:13.4000, Median:13.5000\n",
      "Mode:2, Count:5\n"
     ]
    }
   ],
   "source": [
    "#Calculating the mean and the mode\n",
    "\n",
    "import numpy as np\n",
    "from scipy.stats import mode\n",
    "\n",
    "dining_tabs = [10, 15, 12, 17, 13, 14, 16, 11, 12, 14]\n",
    "mean = np.mean(dining_tabs) \n",
    "median = np.median(dining_tabs)\n",
    "# Calculate the mode and count  \n",
    "#mode = np.argmax(np.bincount(dining_tabs))\n",
    "#count = np.bincount(dining_tabs)[mode]\n",
    "\n",
    "dining_party_size = [1,2,2,2,2,2,3,3,4,4,4,4,5,5,5,5,5,6,6,6,7,8,9,10]\n",
    "mode, count = mode(dining_party_size)\n",
    "print(f\"Mean:{mean:.4f}, Median:{median:.4f}\")\n",
    "print(f\"Mode:{mode}, Count:{count}\")\n",
    "#print(f\"Mode:{mode}, Count:{np.bincount(dining_tabs)[mode]}\")"
   ]
  },
  {
   "cell_type": "code",
   "execution_count": 17,
   "id": "816c32c6",
   "metadata": {},
   "outputs": [
    {
     "name": "stdout",
     "output_type": "stream",
     "text": [
      "All modes: [2, 5]\n",
      "Mode count: 5\n",
      "All modes (numpy): [2 5]\n",
      "Mode count (numpy): 5\n",
      "\n",
      "Detailed mode information:\n",
      "Mode 2 appears 5 times\n",
      "Mode 5 appears 5 times\n"
     ]
    }
   ],
   "source": [
    "# Finding ALL modes (multiple modes)\n",
    "\n",
    "import numpy as np\n",
    "from collections import Counter\n",
    "\n",
    "dining_party_size = [1,2,2,2,2,2,3,3,4,4,4,4,5,5,5,5,5,6,6,6,7,8,9,10]\n",
    "\n",
    "# Method 1: Using Counter to find all modes\n",
    "counter = Counter(dining_party_size)\n",
    "max_count = max(counter.values())\n",
    "all_modes = [value for value, count in counter.items() if count == max_count]\n",
    "\n",
    "print(f\"All modes: {all_modes}\")\n",
    "print(f\"Mode count: {max_count}\")\n",
    "\n",
    "# Method 2: Using numpy to find all modes\n",
    "unique_values, counts = np.unique(dining_party_size, return_counts=True)\n",
    "max_count_np = np.max(counts)\n",
    "all_modes_np = unique_values[counts == max_count_np]\n",
    "\n",
    "print(f\"All modes (numpy): {all_modes_np}\")\n",
    "print(f\"Mode count (numpy): {max_count_np}\")\n",
    "\n",
    "# Display each mode with its count\n",
    "print(\"\\nDetailed mode information:\")\n",
    "for mode in all_modes:\n",
    "    print(f\"Mode {mode} appears {counter[mode]} times\")\n"
   ]
  },
  {
   "cell_type": "markdown",
   "id": "6b47bda8",
   "metadata": {},
   "source": [
    "## Percentiles Examples\n"
   ]
  },
  {
   "cell_type": "code",
   "execution_count": 18,
   "id": "1452e6d2",
   "metadata": {},
   "outputs": [
    {
     "name": "stdout",
     "output_type": "stream",
     "text": [
      "Quartiles: 32.5 55.0 77.5\n",
      "Tertiles: [39.7 69.4]\n"
     ]
    }
   ],
   "source": [
    "#Percentile Example 1\n",
    "\n",
    "import numpy as np\n",
    "\n",
    "data = [10, 20, 30, 40, 50, 60, 70, 80, 90, 100]\n",
    "percentile_25 = np.percentile(data, 25)\n",
    "percentile_50 = np.percentile(data, 50)\n",
    "percentile_75 = np.percentile(data, 75)\n",
    "\n",
    "print(\"Quartiles:\", percentile_25, percentile_50, percentile_75)\n",
    "\n",
    "tertiles = np.percentile(data, [33,66])\n",
    "print(\"Tertiles:\", tertiles)    \n",
    "\n",
    "#Percentile Example \n",
    "\n",
    "\n"
   ]
  },
  {
   "cell_type": "markdown",
   "id": "cbb535c0",
   "metadata": {},
   "source": [
    "### Calculating Variance and Standard Deviation"
   ]
  },
  {
   "cell_type": "code",
   "execution_count": 19,
   "id": "ba1a7a0c",
   "metadata": {},
   "outputs": [
    {
     "name": "stdout",
     "output_type": "stream",
     "text": [
      "Variance: 825.00\n",
      "Standard Deviation: 28.72\n"
     ]
    }
   ],
   "source": [
    "#Variance Example 1\n",
    "\n",
    "import numpy as np\n",
    "\n",
    "temps = [10, 20, 30, 40, 50, 60, 70, 80, 90, 100]\n",
    "\n",
    "def variance(data:[int]):\n",
    "    #calculate the mean\n",
    "    mean = np.mean(data)\n",
    "    #calculate the variance\n",
    "    variance = np.mean((data - mean) ** 2)\n",
    "    return variance\n",
    "\n",
    "print(f\"Variance: {variance(temps):.2f}\")\n",
    "\n",
    "#Calculating Standard Deviation\n",
    "\n",
    "def std_dev(data:[int]):\n",
    "    return np.sqrt(variance(data))\n",
    "\n",
    "print(f\"Standard Deviation: {std_dev(temps):.2f}\")\n",
    "\n"
   ]
  },
  {
   "cell_type": "markdown",
   "id": "6feaf6f6",
   "metadata": {},
   "source": [
    "### Exercises   "
   ]
  },
  {
   "cell_type": "markdown",
   "id": "d668a69d",
   "metadata": {},
   "source": []
  },
  {
   "cell_type": "code",
   "execution_count": 20,
   "id": "25a9b8c1",
   "metadata": {},
   "outputs": [
    {
     "name": "stdout",
     "output_type": "stream",
     "text": [
      "Mean: 1.72\n",
      "Median: 1.71\n",
      "Mode: 1.70, Count: 5\n",
      "Quartiles: 1.69, 1.71, 1.74\n",
      "Standard Deviation: 0.03\n",
      "Variance: 0.00\n",
      "Standard Deviation: 0.03\n",
      "Range: 0.10\n"
     ]
    }
   ],
   "source": [
    "filament_measurements = [\n",
    "    1.73, 1.73, 1.73, 1.75, 1.72, 1.69,\n",
    "    1.76, 1.69, 1.70, 1.67, 1.75, 1.71,\n",
    "    1.70, 1.71, 1.68, 1.70, 1.74, 1.72,\n",
    "    1.76, 1.69, 1.76, 1.73, 1.71, 1.73,\n",
    "    1.70, 1.74, 1.74, 1.76, 1.67, 1.74,\n",
    "    1.66, 1.67, 1.70, 1.69\n",
    "]\n",
    "\n",
    "# find the mean, median, mode, interquartile range, and standard deviation      \n",
    "\n",
    "# find the mean\n",
    "mean = np.mean(filament_measurements)\n",
    "print(f\"Mean: {mean:.2f}\")\n",
    "\n",
    "# find the median\n",
    "median = np.median(filament_measurements)   \n",
    "print(f\"Median: {median:.2f}\")\n",
    "\n",
    "# find the mode (for continuous data, we need to use scipy.stats.mode)\n",
    "from scipy.stats import mode\n",
    "mode_result = mode(filament_measurements)\n",
    "print(f\"Mode: {mode_result.mode:.2f}, Count: {mode_result.count}\")\n",
    "\n",
    "# find the interquartile range\n",
    "quartiles = np.percentile(filament_measurements, [25, 50, 75])\n",
    "print(f\"Quartiles: {quartiles[0]:.2f}, {quartiles[1]:.2f}, {quartiles[2]:.2f}\")\n",
    "\n",
    "# find the standard deviation\n",
    "std_dev = np.std(filament_measurements)\n",
    "print(f\"Standard Deviation: {std_dev:.2f}\") \n",
    "\n",
    "# find the variance\n",
    "variance = np.var(filament_measurements)\n",
    "print(f\"Variance: {variance:.2f}\") \n",
    "\n",
    "standard_deviation = np.sqrt(variance)\n",
    "print(f\"Standard Deviation: {standard_deviation:.2f}\") \n",
    "\n",
    "# find the range\n",
    "range = np.max(filament_measurements) - np.min(filament_measurements)\n",
    "print(f\"Range: {range:.2f}\") \n"
   ]
  },
  {
   "cell_type": "code",
   "execution_count": null,
   "id": "53a8c0d1",
   "metadata": {},
   "outputs": [],
   "source": []
  }
 ],
 "metadata": {
  "kernelspec": {
   "display_name": ".venv",
   "language": "python",
   "name": "python3"
  },
  "language_info": {
   "codemirror_mode": {
    "name": "ipython",
    "version": 3
   },
   "file_extension": ".py",
   "mimetype": "text/x-python",
   "name": "python",
   "nbconvert_exporter": "python",
   "pygments_lexer": "ipython3",
   "version": "3.12.4"
  }
 },
 "nbformat": 4,
 "nbformat_minor": 5
}
